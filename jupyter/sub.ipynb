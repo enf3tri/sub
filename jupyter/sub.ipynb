{
  "nbformat": 4,
  "nbformat_minor": 0,
  "metadata": {
    "colab": {
      "provenance": [],
      "gpuType": "T4"
    },
    "kernelspec": {
      "name": "python3",
      "display_name": "Python 3"
    },
    "language_info": {
      "name": "python"
    },
    "accelerator": "GPU"
  },
  "cells": [
    {
      "cell_type": "markdown",
      "source": [
        "![alt text](https://raw.githubusercontent.com/enf3tri/sub/main/sub-logo.png?token=GHSAT0AAAAAACDELMESTJIEQ2SG5RJYV2XMZD5C33A)"
      ],
      "metadata": {
        "id": "g2PMA2n_bf26"
      }
    },
    {
      "cell_type": "markdown",
      "source": [
        "Necessary downloads ⬇"
      ],
      "metadata": {
        "id": "hvfbW_ZAgUXN"
      }
    },
    {
      "cell_type": "code",
      "execution_count": 7,
      "metadata": {
        "colab": {
          "base_uri": "https://localhost:8080/"
        },
        "id": "X3JLKpQA3fNn",
        "outputId": "074a9734-48c5-4962-c731-dec35f1a441f"
      },
      "outputs": [
        {
          "output_type": "stream",
          "name": "stdout",
          "text": [
            "Looking in indexes: https://pypi.org/simple, https://us-python.pkg.dev/colab-wheels/public/simple/\n",
            "Requirement already satisfied: ffmpeg in /usr/local/lib/python3.10/dist-packages (1.4)\n",
            "Requirement already satisfied: moviepy in /usr/local/lib/python3.10/dist-packages (1.0.3)\n",
            "Requirement already satisfied: decorator<5.0,>=4.0.2 in /usr/local/lib/python3.10/dist-packages (from moviepy) (4.4.2)\n",
            "Requirement already satisfied: tqdm<5.0,>=4.11.2 in /usr/local/lib/python3.10/dist-packages (from moviepy) (4.65.0)\n",
            "Requirement already satisfied: requests<3.0,>=2.8.1 in /usr/local/lib/python3.10/dist-packages (from moviepy) (2.31.0)\n",
            "Requirement already satisfied: proglog<=1.0.0 in /usr/local/lib/python3.10/dist-packages (from moviepy) (0.1.10)\n",
            "Requirement already satisfied: numpy>=1.17.3 in /usr/local/lib/python3.10/dist-packages (from moviepy) (1.22.4)\n",
            "Requirement already satisfied: imageio<3.0,>=2.5 in /usr/local/lib/python3.10/dist-packages (from moviepy) (2.25.1)\n",
            "Requirement already satisfied: imageio-ffmpeg>=0.2.0 in /usr/local/lib/python3.10/dist-packages (from moviepy) (0.4.8)\n",
            "Requirement already satisfied: pillow>=8.3.2 in /usr/local/lib/python3.10/dist-packages (from imageio<3.0,>=2.5->moviepy) (8.4.0)\n",
            "Requirement already satisfied: charset-normalizer<4,>=2 in /usr/local/lib/python3.10/dist-packages (from requests<3.0,>=2.8.1->moviepy) (2.0.12)\n",
            "Requirement already satisfied: idna<4,>=2.5 in /usr/local/lib/python3.10/dist-packages (from requests<3.0,>=2.8.1->moviepy) (3.4)\n",
            "Requirement already satisfied: urllib3<3,>=1.21.1 in /usr/local/lib/python3.10/dist-packages (from requests<3.0,>=2.8.1->moviepy) (1.26.15)\n",
            "Requirement already satisfied: certifi>=2017.4.17 in /usr/local/lib/python3.10/dist-packages (from requests<3.0,>=2.8.1->moviepy) (2022.12.7)\n",
            "Looking in indexes: https://pypi.org/simple, https://us-python.pkg.dev/colab-wheels/public/simple/\n",
            "Requirement already satisfied: faster-whisper in /usr/local/lib/python3.10/dist-packages (0.6.0)\n",
            "Requirement already satisfied: av==10.* in /usr/local/lib/python3.10/dist-packages (from faster-whisper) (10.0.0)\n",
            "Requirement already satisfied: ctranslate2<4,>=3.10 in /usr/local/lib/python3.10/dist-packages (from faster-whisper) (3.14.0)\n",
            "Requirement already satisfied: huggingface-hub>=0.13 in /usr/local/lib/python3.10/dist-packages (from faster-whisper) (0.15.1)\n",
            "Requirement already satisfied: tokenizers==0.13.* in /usr/local/lib/python3.10/dist-packages (from faster-whisper) (0.13.3)\n",
            "Requirement already satisfied: onnxruntime<2,>=1.14 in /usr/local/lib/python3.10/dist-packages (from faster-whisper) (1.15.0)\n",
            "Requirement already satisfied: numpy in /usr/local/lib/python3.10/dist-packages (from ctranslate2<4,>=3.10->faster-whisper) (1.22.4)\n",
            "Requirement already satisfied: pyyaml<7,>=5.3 in /usr/local/lib/python3.10/dist-packages (from ctranslate2<4,>=3.10->faster-whisper) (6.0)\n",
            "Requirement already satisfied: filelock in /usr/local/lib/python3.10/dist-packages (from huggingface-hub>=0.13->faster-whisper) (3.12.0)\n",
            "Requirement already satisfied: fsspec in /usr/local/lib/python3.10/dist-packages (from huggingface-hub>=0.13->faster-whisper) (2023.4.0)\n",
            "Requirement already satisfied: requests in /usr/local/lib/python3.10/dist-packages (from huggingface-hub>=0.13->faster-whisper) (2.31.0)\n",
            "Requirement already satisfied: tqdm>=4.42.1 in /usr/local/lib/python3.10/dist-packages (from huggingface-hub>=0.13->faster-whisper) (4.65.0)\n",
            "Requirement already satisfied: typing-extensions>=3.7.4.3 in /usr/local/lib/python3.10/dist-packages (from huggingface-hub>=0.13->faster-whisper) (4.5.0)\n",
            "Requirement already satisfied: packaging>=20.9 in /usr/local/lib/python3.10/dist-packages (from huggingface-hub>=0.13->faster-whisper) (23.1)\n",
            "Requirement already satisfied: coloredlogs in /usr/local/lib/python3.10/dist-packages (from onnxruntime<2,>=1.14->faster-whisper) (15.0.1)\n",
            "Requirement already satisfied: flatbuffers in /usr/local/lib/python3.10/dist-packages (from onnxruntime<2,>=1.14->faster-whisper) (23.3.3)\n",
            "Requirement already satisfied: protobuf in /usr/local/lib/python3.10/dist-packages (from onnxruntime<2,>=1.14->faster-whisper) (3.20.3)\n",
            "Requirement already satisfied: sympy in /usr/local/lib/python3.10/dist-packages (from onnxruntime<2,>=1.14->faster-whisper) (1.11.1)\n",
            "Requirement already satisfied: humanfriendly>=9.1 in /usr/local/lib/python3.10/dist-packages (from coloredlogs->onnxruntime<2,>=1.14->faster-whisper) (10.0)\n",
            "Requirement already satisfied: charset-normalizer<4,>=2 in /usr/local/lib/python3.10/dist-packages (from requests->huggingface-hub>=0.13->faster-whisper) (2.0.12)\n",
            "Requirement already satisfied: idna<4,>=2.5 in /usr/local/lib/python3.10/dist-packages (from requests->huggingface-hub>=0.13->faster-whisper) (3.4)\n",
            "Requirement already satisfied: urllib3<3,>=1.21.1 in /usr/local/lib/python3.10/dist-packages (from requests->huggingface-hub>=0.13->faster-whisper) (1.26.15)\n",
            "Requirement already satisfied: certifi>=2017.4.17 in /usr/local/lib/python3.10/dist-packages (from requests->huggingface-hub>=0.13->faster-whisper) (2022.12.7)\n",
            "Requirement already satisfied: mpmath>=0.19 in /usr/local/lib/python3.10/dist-packages (from sympy->onnxruntime<2,>=1.14->faster-whisper) (1.3.0)\n",
            "Reading package lists... Done\n",
            "Building dependency tree       \n",
            "Reading state information... Done\n",
            "imagemagick is already the newest version (8:6.9.10.23+dfsg-2.1ubuntu11.7).\n",
            "0 upgraded, 0 newly installed, 0 to remove and 34 not upgraded.\n",
            "Looking in indexes: https://pypi.org/simple, https://us-python.pkg.dev/colab-wheels/public/simple/\n",
            "Requirement already satisfied: translators in /usr/local/lib/python3.10/dist-packages (5.7.6)\n",
            "Requirement already satisfied: requests>=2.29.0 in /usr/local/lib/python3.10/dist-packages (from translators) (2.31.0)\n",
            "Requirement already satisfied: PyExecJS>=1.5.1 in /usr/local/lib/python3.10/dist-packages (from translators) (1.5.1)\n",
            "Requirement already satisfied: lxml>=4.9.1 in /usr/local/lib/python3.10/dist-packages (from translators) (4.9.2)\n",
            "Requirement already satisfied: tqdm>=4.65.0 in /usr/local/lib/python3.10/dist-packages (from translators) (4.65.0)\n",
            "Requirement already satisfied: pathos>=0.2.9 in /usr/local/lib/python3.10/dist-packages (from translators) (0.3.0)\n",
            "Requirement already satisfied: cryptography>=38.0.1 in /usr/local/lib/python3.10/dist-packages (from translators) (40.0.2)\n",
            "Requirement already satisfied: cffi>=1.12 in /usr/local/lib/python3.10/dist-packages (from cryptography>=38.0.1->translators) (1.15.1)\n",
            "Requirement already satisfied: ppft>=1.7.6.6 in /usr/local/lib/python3.10/dist-packages (from pathos>=0.2.9->translators) (1.7.6.6)\n",
            "Requirement already satisfied: dill>=0.3.6 in /usr/local/lib/python3.10/dist-packages (from pathos>=0.2.9->translators) (0.3.6)\n",
            "Requirement already satisfied: pox>=0.3.2 in /usr/local/lib/python3.10/dist-packages (from pathos>=0.2.9->translators) (0.3.2)\n",
            "Requirement already satisfied: multiprocess>=0.70.14 in /usr/local/lib/python3.10/dist-packages (from pathos>=0.2.9->translators) (0.70.14)\n",
            "Requirement already satisfied: six>=1.10.0 in /usr/local/lib/python3.10/dist-packages (from PyExecJS>=1.5.1->translators) (1.16.0)\n",
            "Requirement already satisfied: charset-normalizer<4,>=2 in /usr/local/lib/python3.10/dist-packages (from requests>=2.29.0->translators) (2.0.12)\n",
            "Requirement already satisfied: idna<4,>=2.5 in /usr/local/lib/python3.10/dist-packages (from requests>=2.29.0->translators) (3.4)\n",
            "Requirement already satisfied: urllib3<3,>=1.21.1 in /usr/local/lib/python3.10/dist-packages (from requests>=2.29.0->translators) (1.26.15)\n",
            "Requirement already satisfied: certifi>=2017.4.17 in /usr/local/lib/python3.10/dist-packages (from requests>=2.29.0->translators) (2022.12.7)\n",
            "Requirement already satisfied: pycparser in /usr/local/lib/python3.10/dist-packages (from cffi>=1.12->cryptography>=38.0.1->translators) (2.21)\n",
            "Looking in indexes: https://pypi.org/simple, https://us-python.pkg.dev/colab-wheels/public/simple/\n",
            "Requirement already satisfied: kora in /usr/local/lib/python3.10/dist-packages (0.9.20)\n",
            "Requirement already satisfied: ipython in /usr/local/lib/python3.10/dist-packages (from kora) (7.34.0)\n",
            "Requirement already satisfied: fastcore in /usr/local/lib/python3.10/dist-packages (from kora) (1.5.29)\n",
            "Requirement already satisfied: pip in /usr/local/lib/python3.10/dist-packages (from fastcore->kora) (23.1.2)\n",
            "Requirement already satisfied: packaging in /usr/local/lib/python3.10/dist-packages (from fastcore->kora) (23.1)\n",
            "Requirement already satisfied: setuptools>=18.5 in /usr/local/lib/python3.10/dist-packages (from ipython->kora) (67.7.2)\n",
            "Requirement already satisfied: jedi>=0.16 in /usr/local/lib/python3.10/dist-packages (from ipython->kora) (0.18.2)\n",
            "Requirement already satisfied: decorator in /usr/local/lib/python3.10/dist-packages (from ipython->kora) (4.4.2)\n",
            "Requirement already satisfied: pickleshare in /usr/local/lib/python3.10/dist-packages (from ipython->kora) (0.7.5)\n",
            "Requirement already satisfied: traitlets>=4.2 in /usr/local/lib/python3.10/dist-packages (from ipython->kora) (5.7.1)\n",
            "Requirement already satisfied: prompt-toolkit!=3.0.0,!=3.0.1,<3.1.0,>=2.0.0 in /usr/local/lib/python3.10/dist-packages (from ipython->kora) (3.0.38)\n",
            "Requirement already satisfied: pygments in /usr/local/lib/python3.10/dist-packages (from ipython->kora) (2.14.0)\n",
            "Requirement already satisfied: backcall in /usr/local/lib/python3.10/dist-packages (from ipython->kora) (0.2.0)\n",
            "Requirement already satisfied: matplotlib-inline in /usr/local/lib/python3.10/dist-packages (from ipython->kora) (0.1.6)\n",
            "Requirement already satisfied: pexpect>4.3 in /usr/local/lib/python3.10/dist-packages (from ipython->kora) (4.8.0)\n",
            "Requirement already satisfied: parso<0.9.0,>=0.8.0 in /usr/local/lib/python3.10/dist-packages (from jedi>=0.16->ipython->kora) (0.8.3)\n",
            "Requirement already satisfied: ptyprocess>=0.5 in /usr/local/lib/python3.10/dist-packages (from pexpect>4.3->ipython->kora) (0.7.0)\n",
            "Requirement already satisfied: wcwidth in /usr/local/lib/python3.10/dist-packages (from prompt-toolkit!=3.0.0,!=3.0.1,<3.1.0,>=2.0.0->ipython->kora) (0.2.6)\n"
          ]
        }
      ],
      "source": [
        "#@markdown Necessary package installs 👇\n",
        "!pip install ffmpeg moviepy\n",
        "!pip install faster-whisper\n",
        "!apt install imagemagick\n",
        "!cat /etc/ImageMagick-6/policy.xml | sed 's/none/read,write/g'> /etc/ImageMagick-6/policy.xml\n",
        "!pip install --upgrade translators\n",
        "!pip install -U kora"
      ]
    },
    {
      "cell_type": "code",
      "source": [
        "import moviepy.editor as mp\n",
        "import translators as ts\n",
        "\n",
        "from faster_whisper import WhisperModel\n",
        "from google.colab.patches import cv2_imshow\n",
        "from moviepy.editor import VideoFileClip, TextClip, CompositeVideoClip\n",
        "from kora.drive import upload_public\n",
        "from IPython.display import HTML\n",
        "#@markdown Upload the video into colab and write in format of **directory/video name.mp4** 👇.\n",
        "video_name = \"Steve Jobs Secrets of Life.mp4\"  #@param {type:\"string\"}\n",
        "#@markdown By default it will create subtitles in origin language\n",
        "\n",
        "#@markdown if you set **language_bool** to **False** it will automaticly translate into **translation_language**.\n",
        "language_bool = False  #@param {type:\"boolean\"}\n",
        "\n",
        "translation_language = 'tr' #@param [\"bg\", \"cs\", \"da\", \"nl\", \"en\", \"et\", \"fi\", \"fr\", \"de\", \"el\", \"hu\", \"id\", \"it\", \"ja\", \"ko\", \"lv\", \"lt\", \"no\", \"pl\", \"pt\", \"ro\", \"ru\", \"sk\", \"sl\", \"es\", \"sv\", \"tr\", \"uk\"]\n"
      ],
      "metadata": {
        "id": "-ubAOXvG33v5"
      },
      "execution_count": 8,
      "outputs": []
    },
    {
      "cell_type": "code",
      "source": [
        "def vid_to_mp3(url):\n",
        "  my_clip = mp.VideoFileClip(url)\n",
        "  my_clip.audio.write_audiofile(r\"result.mp3\")\n",
        "\n",
        "def add_text_to_video(video_name, model_size, url):\n",
        "    video_clip = VideoFileClip(video_name)\n",
        "    \n",
        "    text_clips = []\n",
        "\n",
        "    model = WhisperModel(model_size, device=\"cuda\", compute_type=\"float16\")\n",
        "    segments, info = model.transcribe(url, beam_size=1)\n",
        "    \n",
        "    for segment in segments:\n",
        "        start_time = segment.start\n",
        "        end_time = segment.end\n",
        "        text = segment.text\n",
        "        \n",
        "        duration = end_time - start_time\n",
        "        video_width, video_height = video_clip.size\n",
        "        if language_bool:\n",
        "          text_clip = TextClip(text, fontsize=24, font='Arial', color='yellow', bg_color = 'black',size=(video_width*3/4, None), method='caption').set_start(start_time).set_duration(duration)\n",
        "        else:\n",
        "          try:\n",
        "            text_clip = TextClip(str(ts.translate_text(text,translator='deepl',to_language= translation_language)), fontsize=24, font='Arial', color='yellow', bg_color = 'black',size=(video_width*3/4, None), method='caption').set_start(start_time).set_duration(duration)\n",
        "          except:\n",
        "            text_clip = TextClip(str(ts.translate_text(text,to_language= translation_language)), fontsize=24, font='Arial', color='yellow', bg_color = 'black',size=(video_width*3/4, None), method='caption').set_start(start_time).set_duration(duration)\n",
        "\n",
        "        subtitle_x_position = 'center'\n",
        "        subtitle_y_position = video_height* 4 / 5 \n",
        "\n",
        "        text_position = (subtitle_x_position, subtitle_y_position)                    \n",
        "        text_clips.append(text_clip.set_position(text_position))\n",
        "\n",
        "    final_clip = CompositeVideoClip([video_clip] + text_clips)\n",
        "\n",
        "    final_clip = final_clip.set_duration(video_clip.duration)\n",
        "    final_clip = final_clip.set_audio(video_clip.audio)\n",
        "    output_video = 'output.mp4'\n",
        "    final_clip.write_videofile(output_video, codec='libx264', audio_codec='aac')\n",
        "    \n",
        "    return output_video\n",
        "\n",
        "vid_to_mp3(video_name)\n",
        "add_text_to_video(video_name, \"large-v2\", \"result.mp3\")\n",
        "url = upload_public('output.mp4')\n",
        "#@markdown Directory to store **necessary files**, dont miss the slash at the end👇.\n",
        "HTML(f\"\"\"<video src={url} width=500 controls/>\"\"\")"
      ],
      "metadata": {
        "id": "7RoGLck062X-",
        "colab": {
          "base_uri": "https://localhost:8080/",
          "height": 687
        },
        "outputId": "ab1f986b-06cf-4c2c-ede8-6b5961d6bd27"
      },
      "execution_count": 10,
      "outputs": [
        {
          "output_type": "stream",
          "name": "stdout",
          "text": [
            "MoviePy - Writing audio in result.mp3\n"
          ]
        },
        {
          "output_type": "stream",
          "name": "stderr",
          "text": []
        },
        {
          "output_type": "stream",
          "name": "stdout",
          "text": [
            "MoviePy - Done.\n",
            "Moviepy - Building video output.mp4.\n",
            "MoviePy - Writing audio in outputTEMP_MPY_wvf_snd.mp4\n"
          ]
        },
        {
          "output_type": "stream",
          "name": "stderr",
          "text": []
        },
        {
          "output_type": "stream",
          "name": "stdout",
          "text": [
            "MoviePy - Done.\n",
            "Moviepy - Writing video output.mp4\n",
            "\n"
          ]
        },
        {
          "output_type": "stream",
          "name": "stderr",
          "text": [
            "t: 100%|█████████▉| 2980/2987 [00:59<00:00, 62.63it/s, now=None]WARNING:py.warnings:/usr/local/lib/python3.10/dist-packages/moviepy/video/io/ffmpeg_reader.py:123: UserWarning: Warning: in file Steve Jobs Secrets of Life.mp4, 1229760 bytes wanted but 0 bytes read,at frame 2983/2987, at time 99.53/99.64 sec. Using the last valid frame instead.\n",
            "  warnings.warn(\"Warning: in file %s, \"%(self.filename)+\n",
            "\n",
            "WARNING:py.warnings:/usr/local/lib/python3.10/dist-packages/moviepy/video/io/ffmpeg_reader.py:123: UserWarning: Warning: in file Steve Jobs Secrets of Life.mp4, 1229760 bytes wanted but 0 bytes read,at frame 2984/2987, at time 99.57/99.64 sec. Using the last valid frame instead.\n",
            "  warnings.warn(\"Warning: in file %s, \"%(self.filename)+\n",
            "\n",
            "WARNING:py.warnings:/usr/local/lib/python3.10/dist-packages/moviepy/video/io/ffmpeg_reader.py:123: UserWarning: Warning: in file Steve Jobs Secrets of Life.mp4, 1229760 bytes wanted but 0 bytes read,at frame 2985/2987, at time 99.60/99.64 sec. Using the last valid frame instead.\n",
            "  warnings.warn(\"Warning: in file %s, \"%(self.filename)+\n",
            "\n",
            "t: 100%|██████████| 2987/2987 [00:59<00:00, 58.00it/s, now=None]WARNING:py.warnings:/usr/local/lib/python3.10/dist-packages/moviepy/video/io/ffmpeg_reader.py:123: UserWarning: Warning: in file Steve Jobs Secrets of Life.mp4, 1229760 bytes wanted but 0 bytes read,at frame 2986/2987, at time 99.63/99.64 sec. Using the last valid frame instead.\n",
            "  warnings.warn(\"Warning: in file %s, \"%(self.filename)+\n",
            "\n"
          ]
        },
        {
          "output_type": "stream",
          "name": "stdout",
          "text": [
            "Moviepy - Done !\n",
            "Moviepy - video ready output.mp4\n"
          ]
        },
        {
          "output_type": "execute_result",
          "data": {
            "text/plain": [
              "<IPython.core.display.HTML object>"
            ],
            "text/html": [
              "<video src=https://drive.google.com/uc?id=1O86_ABe8Oep-PuHs_jhaxS_ZbaO8qLd7 width=500 controls/>"
            ]
          },
          "metadata": {},
          "execution_count": 10
        }
      ]
    },
    {
      "cell_type": "code",
      "source": [],
      "metadata": {
        "id": "VH8O5ym_hTub"
      },
      "execution_count": null,
      "outputs": []
    }
  ]
}